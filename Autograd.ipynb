{
  "cells": [
    {
      "cell_type": "code",
      "execution_count": 1,
      "metadata": {
        "colab": {
          "base_uri": "https://localhost:8080/"
        },
        "id": "vNgI-RDPWnwz",
        "outputId": "ac14b392-cea7-4a7b-e1a5-7f8fd54099e6"
      },
      "outputs": [
        {
          "name": "stdout",
          "output_type": "stream",
          "text": [
            "-2.6145744834544478\n"
          ]
        }
      ],
      "source": [
        "import math\n",
        "\n",
        "def derivate(x):\n",
        "  return 2* x * math.cos(x**2)\n",
        "print(derivate(2))"
      ]
    },
    {
      "cell_type": "code",
      "execution_count": 2,
      "metadata": {
        "id": "tUmecx9UZcIh"
      },
      "outputs": [],
      "source": [
        "import torch"
      ]
    },
    {
      "cell_type": "code",
      "execution_count": 3,
      "metadata": {
        "id": "8VncMZOMcMDB"
      },
      "outputs": [],
      "source": [
        "x=torch.tensor(3.0,requires_grad=True)"
      ]
    },
    {
      "cell_type": "code",
      "execution_count": 4,
      "metadata": {
        "id": "E2iPg5YJcTcp"
      },
      "outputs": [],
      "source": [
        "y=x**2"
      ]
    },
    {
      "cell_type": "code",
      "execution_count": 5,
      "metadata": {
        "colab": {
          "base_uri": "https://localhost:8080/"
        },
        "id": "NlrRcOWCcYab",
        "outputId": "3db942cc-2d23-496b-ac7e-2cc8a083673e"
      },
      "outputs": [
        {
          "data": {
            "text/plain": [
              "tensor(3., requires_grad=True)"
            ]
          },
          "execution_count": 5,
          "metadata": {},
          "output_type": "execute_result"
        }
      ],
      "source": [
        "x"
      ]
    },
    {
      "cell_type": "code",
      "execution_count": 6,
      "metadata": {
        "colab": {
          "base_uri": "https://localhost:8080/"
        },
        "id": "4Rx-wIeBcZM6",
        "outputId": "78c3358a-0fcc-4c04-b0c3-65c7dbd44d86"
      },
      "outputs": [
        {
          "data": {
            "text/plain": [
              "tensor(9., grad_fn=<PowBackward0>)"
            ]
          },
          "execution_count": 6,
          "metadata": {},
          "output_type": "execute_result"
        }
      ],
      "source": [
        "y"
      ]
    },
    {
      "cell_type": "code",
      "execution_count": 7,
      "metadata": {
        "id": "imXEgJXfcc05"
      },
      "outputs": [],
      "source": [
        "y.backward()"
      ]
    },
    {
      "cell_type": "code",
      "execution_count": 8,
      "metadata": {
        "colab": {
          "base_uri": "https://localhost:8080/"
        },
        "id": "3wQKiiFxdDxQ",
        "outputId": "e84e6b64-97b9-42e7-d3cb-33791850e247"
      },
      "outputs": [
        {
          "data": {
            "text/plain": [
              "tensor(6.)"
            ]
          },
          "execution_count": 8,
          "metadata": {},
          "output_type": "execute_result"
        }
      ],
      "source": [
        "x.grad"
      ]
    },
    {
      "cell_type": "code",
      "execution_count": 9,
      "metadata": {
        "id": "b-BhWyPudJEZ"
      },
      "outputs": [],
      "source": [
        "x=torch.tensor(4.0,requires_grad=True)\n"
      ]
    },
    {
      "cell_type": "code",
      "execution_count": 10,
      "metadata": {
        "id": "kguzb6h_dmKq"
      },
      "outputs": [],
      "source": [
        "y=x**2\n",
        "\n"
      ]
    },
    {
      "cell_type": "code",
      "execution_count": 11,
      "metadata": {
        "id": "rhVsBQJodyhw"
      },
      "outputs": [],
      "source": [
        "z=torch.sin(y)"
      ]
    },
    {
      "cell_type": "code",
      "execution_count": 12,
      "metadata": {
        "id": "0D_DGbfHd9_x"
      },
      "outputs": [],
      "source": [
        "z.backward()"
      ]
    },
    {
      "cell_type": "code",
      "execution_count": 13,
      "metadata": {
        "colab": {
          "base_uri": "https://localhost:8080/"
        },
        "id": "PZjtwVbsd-xQ",
        "outputId": "e1b5df12-be6a-4924-d7ab-50474af032c0"
      },
      "outputs": [
        {
          "data": {
            "text/plain": [
              "tensor(-7.6613)"
            ]
          },
          "execution_count": 13,
          "metadata": {},
          "output_type": "execute_result"
        }
      ],
      "source": [
        "x.grad"
      ]
    },
    {
      "cell_type": "code",
      "execution_count": null,
      "metadata": {},
      "outputs": [],
      "source": [
        "y.grad\n",
        "#throw error as y is not a leaf node in the computation graph"
      ]
    },
    {
      "cell_type": "code",
      "execution_count": 15,
      "metadata": {
        "id": "qFhU-j3wesih"
      },
      "outputs": [],
      "source": [
        "x=torch.tensor(6.7)\n",
        "y=torch.tensor(0.0)\n",
        "w=torch.tensor(1.0)\n",
        "b=torch.tensor(0.0)\n"
      ]
    },
    {
      "cell_type": "code",
      "execution_count": 16,
      "metadata": {
        "id": "eC-P2e23iI7S"
      },
      "outputs": [],
      "source": [
        "def loss_func(predication,target):\n",
        "  epsilon=1e-8\n",
        "  predication=torch.clamp(predication,epsilon,1-epsilon)\n",
        "  return -(target*torch.log(predication)+(1-target)*torch.log(1-predication))"
      ]
    },
    {
      "cell_type": "code",
      "execution_count": 17,
      "metadata": {
        "colab": {
          "base_uri": "https://localhost:8080/"
        },
        "id": "M3SmT6yqi1Wx",
        "outputId": "5fc002c1-4318-4a4b-de42-6ee6526294f1"
      },
      "outputs": [
        {
          "data": {
            "text/plain": [
              "tensor(6.7012)"
            ]
          },
          "execution_count": 17,
          "metadata": {},
          "output_type": "execute_result"
        }
      ],
      "source": [
        "z=w*x+b\n",
        "y_pred=torch.sigmoid(z)\n",
        "\n",
        "loss=loss_func(y_pred,y)\n",
        "loss"
      ]
    },
    {
      "cell_type": "code",
      "execution_count": 20,
      "metadata": {
        "colab": {
          "base_uri": "https://localhost:8080/"
        },
        "id": "KwTB0aXCjC_o",
        "outputId": "45ef1ecc-9fcb-413b-994d-c1fc4aa403df"
      },
      "outputs": [
        {
          "name": "stdout",
          "output_type": "stream",
          "text": [
            "Manual Gradient of loss w.r.t weight (dw): 6.691762447357178\n",
            "Manual Gradient of loss w.r.t bias (db): 0.998770534992218\n"
          ]
        }
      ],
      "source": [
        "#derivatives\n",
        "dloss_d_pred=(y_pred - y)/ (y_pred*(1-y_pred))\n",
        "\n",
        "d_pred_d_z= y_pred*(1-y_pred)\n",
        "\n",
        "dloss_dw=x\n",
        "dloss_db=1\n",
        "\n",
        "dl_dw= dloss_d_pred* d_pred_d_z* dloss_dw\n",
        "dl_db= dloss_d_pred* d_pred_d_z* dloss_db\n",
        "\n",
        "print(f\"Manual Gradient of loss w.r.t weight (dw): {dl_dw}\")\n",
        "print(f\"Manual Gradient of loss w.r.t bias (db): {dl_db}\")"
      ]
    },
    {
      "cell_type": "code",
      "execution_count": 21,
      "metadata": {
        "id": "RL1gWAilkmpA"
      },
      "outputs": [],
      "source": [
        "x=torch.tensor(6.7)\n",
        "y=torch.tensor(0.0)\n",
        "w=torch.tensor(1.0,requires_grad=True)\n",
        "b=torch.tensor(0.0,requires_grad=True)\n"
      ]
    },
    {
      "cell_type": "code",
      "execution_count": 22,
      "metadata": {
        "colab": {
          "base_uri": "https://localhost:8080/"
        },
        "id": "oNrp9c3VoNr7",
        "outputId": "8c7a44f6-8145-42cc-e7b0-03f158013e0b"
      },
      "outputs": [
        {
          "data": {
            "text/plain": [
              "(tensor(1., requires_grad=True), tensor(0., requires_grad=True))"
            ]
          },
          "execution_count": 22,
          "metadata": {},
          "output_type": "execute_result"
        }
      ],
      "source": [
        "w,b"
      ]
    },
    {
      "cell_type": "code",
      "execution_count": 24,
      "metadata": {
        "colab": {
          "base_uri": "https://localhost:8080/"
        },
        "id": "VeKFvmzsoOgg",
        "outputId": "c71ee644-6a0b-4c16-f202-3fef987b8a3a"
      },
      "outputs": [
        {
          "data": {
            "text/plain": [
              "tensor(6.7000, grad_fn=<AddBackward0>)"
            ]
          },
          "execution_count": 24,
          "metadata": {},
          "output_type": "execute_result"
        }
      ],
      "source": [
        "z=w*x +b\n",
        "z"
      ]
    },
    {
      "cell_type": "code",
      "execution_count": 25,
      "metadata": {
        "colab": {
          "base_uri": "https://localhost:8080/"
        },
        "id": "iZ_kGvWSoTR5",
        "outputId": "7152d822-6347-451c-fc3d-712948536330"
      },
      "outputs": [
        {
          "data": {
            "text/plain": [
              "tensor(0.9988, grad_fn=<SigmoidBackward0>)"
            ]
          },
          "execution_count": 25,
          "metadata": {},
          "output_type": "execute_result"
        }
      ],
      "source": [
        "y_pred=torch.sigmoid(z)\n",
        "y_pred"
      ]
    },
    {
      "cell_type": "code",
      "execution_count": 26,
      "metadata": {
        "colab": {
          "base_uri": "https://localhost:8080/"
        },
        "id": "4IcJNksloYpR",
        "outputId": "19506089-eb11-44de-8346-cbd4070b9983"
      },
      "outputs": [
        {
          "data": {
            "text/plain": [
              "tensor(6.7012, grad_fn=<NegBackward0>)"
            ]
          },
          "execution_count": 26,
          "metadata": {},
          "output_type": "execute_result"
        }
      ],
      "source": [
        "loss=loss_func(y_pred,y)\n",
        "loss"
      ]
    },
    {
      "cell_type": "code",
      "execution_count": 27,
      "metadata": {
        "id": "BScV_Y37ogUg"
      },
      "outputs": [],
      "source": [
        "loss.backward()"
      ]
    },
    {
      "cell_type": "code",
      "execution_count": 29,
      "metadata": {
        "colab": {
          "base_uri": "https://localhost:8080/"
        },
        "id": "8-8--gmwozPQ",
        "outputId": "d6b6c3d8-433a-42e2-cb0e-575351863aee"
      },
      "outputs": [
        {
          "name": "stdout",
          "output_type": "stream",
          "text": [
            "tensor(6.6918)\n",
            "tensor(0.9988)\n"
          ]
        }
      ],
      "source": [
        "print(w.grad)\n",
        "print(b.grad)"
      ]
    },
    {
      "cell_type": "code",
      "execution_count": 46,
      "metadata": {
        "colab": {
          "base_uri": "https://localhost:8080/"
        },
        "id": "pBlRdiZgo1iA",
        "outputId": "0efb3858-4228-4eb0-b8ae-1ccdcc833522"
      },
      "outputs": [
        {
          "data": {
            "text/plain": [
              "tensor([1., 2., 3.], requires_grad=True)"
            ]
          },
          "execution_count": 46,
          "metadata": {},
          "output_type": "execute_result"
        }
      ],
      "source": [
        "x=torch.tensor([1.0,2.0,3.0],requires_grad=True)\n",
        "x"
      ]
    },
    {
      "cell_type": "code",
      "execution_count": 55,
      "metadata": {
        "colab": {
          "base_uri": "https://localhost:8080/"
        },
        "id": "mJLjEGOrpiHI",
        "outputId": "6f675a32-ae19-4dde-aa12-5be2dbf6b0cb"
      },
      "outputs": [
        {
          "data": {
            "text/plain": [
              "tensor(4.6667, grad_fn=<MeanBackward0>)"
            ]
          },
          "execution_count": 55,
          "metadata": {},
          "output_type": "execute_result"
        }
      ],
      "source": [
        "y=(x**2).mean()\n",
        "y"
      ]
    },
    {
      "cell_type": "code",
      "execution_count": 56,
      "metadata": {
        "id": "tmKDmYyvpmMA"
      },
      "outputs": [],
      "source": [
        "y.backward()"
      ]
    },
    {
      "cell_type": "code",
      "execution_count": 57,
      "metadata": {
        "colab": {
          "base_uri": "https://localhost:8080/"
        },
        "id": "GxcpXgEZpunA",
        "outputId": "c90cf424-a93d-43d9-bc78-b304e68fdcc5"
      },
      "outputs": [
        {
          "data": {
            "text/plain": [
              "tensor([0.6667, 1.3333, 2.0000])"
            ]
          },
          "execution_count": 57,
          "metadata": {},
          "output_type": "execute_result"
        }
      ],
      "source": [
        "x.grad"
      ]
    },
    {
      "cell_type": "code",
      "execution_count": 58,
      "metadata": {
        "colab": {
          "base_uri": "https://localhost:8080/"
        },
        "id": "wKh2vMQRpvcY",
        "outputId": "f695cbc6-61ed-403c-ad92-6758d45c4071"
      },
      "outputs": [
        {
          "data": {
            "text/plain": [
              "tensor([0., 0., 0.])"
            ]
          },
          "execution_count": 58,
          "metadata": {},
          "output_type": "execute_result"
        }
      ],
      "source": [
        "x.grad.zero_()"
      ]
    },
    {
      "cell_type": "code",
      "execution_count": 59,
      "metadata": {
        "id": "KN3VyIklrV_P"
      },
      "outputs": [],
      "source": [
        "x=torch.tensor(3.0,requires_grad=True)"
      ]
    },
    {
      "cell_type": "code",
      "execution_count": null,
      "metadata": {
        "id": "rA5jcjUYs5G4"
      },
      "outputs": [],
      "source": [
        "with torch.no_grad():\n",
        "  y=x**2 "
      ]
    },
    {
      "cell_type": "code",
      "execution_count": null,
      "metadata": {},
      "outputs": [],
      "source": [
        "y.backward()\n",
        "#will not allow backward pass as with torch.no_grad() disables gradient tracking"
      ]
    },
    {
      "cell_type": "code",
      "execution_count": 70,
      "metadata": {
        "id": "O7gmojnHtEp_"
      },
      "outputs": [],
      "source": [
        "# with torch.no_grad():\n",
        "y=x**2"
      ]
    },
    {
      "cell_type": "code",
      "execution_count": 71,
      "metadata": {
        "id": "D15s1m3utK6I"
      },
      "outputs": [],
      "source": [
        "y.backward()"
      ]
    },
    {
      "cell_type": "code",
      "execution_count": 72,
      "metadata": {
        "colab": {
          "base_uri": "https://localhost:8080/"
        },
        "id": "HHYFFs99tODg",
        "outputId": "33719cb4-5962-4e5c-b5eb-869b9ade22da"
      },
      "outputs": [
        {
          "data": {
            "text/plain": [
              "tensor(12.)"
            ]
          },
          "execution_count": 72,
          "metadata": {},
          "output_type": "execute_result"
        }
      ],
      "source": [
        "x.grad"
      ]
    },
    {
      "cell_type": "code",
      "execution_count": null,
      "metadata": {
        "id": "LyXoWR7ztPTJ"
      },
      "outputs": [],
      "source": []
    }
  ],
  "metadata": {
    "colab": {
      "provenance": []
    },
    "kernelspec": {
      "display_name": "Python 3",
      "name": "python3"
    },
    "language_info": {
      "name": "python"
    }
  },
  "nbformat": 4,
  "nbformat_minor": 0
}
