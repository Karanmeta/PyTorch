{
  "cells": [
    {
      "cell_type": "code",
      "execution_count": null,
      "metadata": {
        "colab": {
          "base_uri": "https://localhost:8080/"
        },
        "id": "2WRjZC-7-LPf",
        "outputId": "4785039e-d896-4098-8316-e104ed7dd437"
      },
      "outputs": [
        {
          "name": "stdout",
          "output_type": "stream",
          "text": [
            "2.6.0+cu124\n"
          ]
        }
      ],
      "source": [
        "import torch\n",
        "print(torch.__version__)"
      ]
    },
    {
      "cell_type": "code",
      "execution_count": null,
      "metadata": {
        "colab": {
          "base_uri": "https://localhost:8080/"
        },
        "id": "EuXJxC7l_LYS",
        "outputId": "1bc7a3a0-760b-4ce5-9048-4bd9a3345bac"
      },
      "outputs": [
        {
          "name": "stdout",
          "output_type": "stream",
          "text": [
            "GPU is not available\n"
          ]
        }
      ],
      "source": [
        "if torch.cuda.is_available():\n",
        "    print(\"GPU is available\")\n",
        "    print(f\"Using GPU:{torch.get_device_name(0)}\")\n",
        "else:\n",
        "    print(\"GPU is not available\")"
      ]
    },
    {
      "cell_type": "code",
      "execution_count": null,
      "metadata": {
        "id": "QDqjjGsF_pg3"
      },
      "outputs": [],
      "source": [
        "a= torch.empty(2,3,dtype=torch.int32)"
      ]
    },
    {
      "cell_type": "code",
      "execution_count": null,
      "metadata": {
        "colab": {
          "base_uri": "https://localhost:8080/"
        },
        "id": "WoHYaoRgESMn",
        "outputId": "38c1ec72-d050-4924-be97-2bff1ee97af8"
      },
      "outputs": [
        {
          "data": {
            "text/plain": [
              "tensor([[-1.2850e-27,  4.3341e-41,  8.6447e+03],\n",
              "        [ 0.0000e+00,  4.4842e-44,  0.0000e+00]])"
            ]
          },
          "execution_count": 48,
          "metadata": {},
          "output_type": "execute_result"
        }
      ],
      "source": [
        "a"
      ]
    },
    {
      "cell_type": "code",
      "execution_count": null,
      "metadata": {
        "colab": {
          "base_uri": "https://localhost:8080/"
        },
        "id": "qBtuK1uCBa4_",
        "outputId": "81e084b3-4346-469f-8912-82c016ea21c4"
      },
      "outputs": [
        {
          "data": {
            "text/plain": [
              "torch.Tensor"
            ]
          },
          "execution_count": 10,
          "metadata": {},
          "output_type": "execute_result"
        }
      ],
      "source": [
        "type(a)"
      ]
    },
    {
      "cell_type": "code",
      "execution_count": null,
      "metadata": {
        "colab": {
          "base_uri": "https://localhost:8080/"
        },
        "id": "F-sp9TUHBkEO",
        "outputId": "f00b1d49-bee7-4217-e516-06eadddc952e"
      },
      "outputs": [
        {
          "data": {
            "text/plain": [
              "tensor([[0., 0., 0.],\n",
              "        [0., 0., 0.]])"
            ]
          },
          "execution_count": 11,
          "metadata": {},
          "output_type": "execute_result"
        }
      ],
      "source": [
        "torch.zeros(2,3)"
      ]
    },
    {
      "cell_type": "code",
      "execution_count": null,
      "metadata": {
        "colab": {
          "base_uri": "https://localhost:8080/"
        },
        "id": "8-3rXxr0BwEI",
        "outputId": "b40177af-83da-4f90-ae80-521305df80fe"
      },
      "outputs": [
        {
          "data": {
            "text/plain": [
              "tensor([[1., 1., 1.],\n",
              "        [1., 1., 1.]])"
            ]
          },
          "execution_count": 12,
          "metadata": {},
          "output_type": "execute_result"
        }
      ],
      "source": [
        "torch.ones(2,3)"
      ]
    },
    {
      "cell_type": "code",
      "execution_count": null,
      "metadata": {
        "colab": {
          "base_uri": "https://localhost:8080/"
        },
        "id": "Sei1l8G4B0CQ",
        "outputId": "896ddcd6-0df3-4069-9e96-0ae2556fb526"
      },
      "outputs": [
        {
          "data": {
            "text/plain": [
              "tensor([[0.1694, 0.9075, 0.0590],\n",
              "        [0.3689, 0.4795, 0.1624]])"
            ]
          },
          "execution_count": 14,
          "metadata": {},
          "output_type": "execute_result"
        }
      ],
      "source": [
        "torch.rand(2,3)"
      ]
    },
    {
      "cell_type": "code",
      "execution_count": null,
      "metadata": {
        "id": "85_sTbwVB2qP"
      },
      "outputs": [],
      "source": [
        "X=torch.tensor([[1,2,3],[4,5,6]])"
      ]
    },
    {
      "cell_type": "code",
      "execution_count": null,
      "metadata": {
        "colab": {
          "base_uri": "https://localhost:8080/"
        },
        "id": "mNoYPudeC7Vn",
        "outputId": "6addb0eb-faaf-4c4c-a83c-744c996978e5"
      },
      "outputs": [
        {
          "data": {
            "text/plain": [
              "torch.Size([2, 3])"
            ]
          },
          "execution_count": 17,
          "metadata": {},
          "output_type": "execute_result"
        }
      ],
      "source": [
        "X.shape"
      ]
    },
    {
      "cell_type": "code",
      "execution_count": null,
      "metadata": {
        "colab": {
          "base_uri": "https://localhost:8080/"
        },
        "id": "H98-Url3C-nw",
        "outputId": "06762979-0aa7-4e5b-c4fa-2702ca7415dd"
      },
      "outputs": [
        {
          "data": {
            "text/plain": [
              "tensor([[7, 7, 7, 7],\n",
              "        [7, 7, 7, 7],\n",
              "        [7, 7, 7, 7]])"
            ]
          },
          "execution_count": 21,
          "metadata": {},
          "output_type": "execute_result"
        }
      ],
      "source": [
        "torch.full((3,4),7)"
      ]
    },
    {
      "cell_type": "code",
      "execution_count": null,
      "metadata": {
        "colab": {
          "base_uri": "https://localhost:8080/"
        },
        "id": "R_xUEe1VDDsY",
        "outputId": "0d185683-0057-4bf6-95be-7fd663c01da6"
      },
      "outputs": [
        {
          "data": {
            "text/plain": [
              "tensor([[0.0146, 0.1393, 0.9180],\n",
              "        [0.3637, 0.2042, 0.6238]])"
            ]
          },
          "execution_count": 32,
          "metadata": {},
          "output_type": "execute_result"
        }
      ],
      "source": [
        "torch.manual_seed(112)\n",
        "torch.rand(2,3)"
      ]
    },
    {
      "cell_type": "code",
      "execution_count": null,
      "metadata": {
        "colab": {
          "base_uri": "https://localhost:8080/"
        },
        "id": "j3sJapv4DOmw",
        "outputId": "b4793c32-80cb-41ed-fbc2-b8891a356742"
      },
      "outputs": [
        {
          "data": {
            "text/plain": [
              "tensor([[0.0146, 0.1393, 0.9180],\n",
              "        [0.3637, 0.2042, 0.6238],\n",
              "        [0.3734, 0.9844, 0.8940]])"
            ]
          },
          "execution_count": 33,
          "metadata": {},
          "output_type": "execute_result"
        }
      ],
      "source": [
        "torch.manual_seed(112)\n",
        "torch.rand(3,3)"
      ]
    },
    {
      "cell_type": "code",
      "execution_count": null,
      "metadata": {
        "colab": {
          "base_uri": "https://localhost:8080/"
        },
        "id": "h90WOeDBDWkP",
        "outputId": "a773ba9a-a91e-4c1e-9574-22734b3c9a3c"
      },
      "outputs": [
        {
          "data": {
            "text/plain": [
              "tensor([0, 3, 6, 9])"
            ]
          },
          "execution_count": 34,
          "metadata": {},
          "output_type": "execute_result"
        }
      ],
      "source": [
        "torch.arange(0,12,3)"
      ]
    },
    {
      "cell_type": "code",
      "execution_count": null,
      "metadata": {
        "colab": {
          "base_uri": "https://localhost:8080/"
        },
        "id": "1Oe0bjzADpuY",
        "outputId": "d80866bd-5224-4ae3-ee11-8dd608a82c13"
      },
      "outputs": [
        {
          "data": {
            "text/plain": [
              "tensor([[1., 0., 0., 0., 0.],\n",
              "        [0., 1., 0., 0., 0.],\n",
              "        [0., 0., 1., 0., 0.],\n",
              "        [0., 0., 0., 1., 0.],\n",
              "        [0., 0., 0., 0., 1.]])"
            ]
          },
          "execution_count": 37,
          "metadata": {},
          "output_type": "execute_result"
        }
      ],
      "source": [
        "torch.eye(5)"
      ]
    },
    {
      "cell_type": "code",
      "execution_count": null,
      "metadata": {
        "colab": {
          "base_uri": "https://localhost:8080/"
        },
        "id": "Yo0j0RcZDwm_",
        "outputId": "217451b0-5b3b-47a8-a917-1c538109f08a"
      },
      "outputs": [
        {
          "data": {
            "text/plain": [
              "tensor([ 1.0000,  3.2500,  5.5000,  7.7500, 10.0000])"
            ]
          },
          "execution_count": 47,
          "metadata": {},
          "output_type": "execute_result"
        }
      ],
      "source": [
        "torch.linspace(1,10,5)"
      ]
    },
    {
      "cell_type": "code",
      "execution_count": null,
      "metadata": {
        "colab": {
          "base_uri": "https://localhost:8080/"
        },
        "id": "FAh8EElHD2dA",
        "outputId": "a58a202a-153b-4c5e-8db4-459c8584ef63"
      },
      "outputs": [
        {
          "data": {
            "text/plain": [
              "tensor([[1., 1., 1.],\n",
              "        [1., 1., 1.]])"
            ]
          },
          "execution_count": 49,
          "metadata": {},
          "output_type": "execute_result"
        }
      ],
      "source": [
        "torch.ones_like(a)"
      ]
    },
    {
      "cell_type": "code",
      "execution_count": null,
      "metadata": {
        "colab": {
          "base_uri": "https://localhost:8080/"
        },
        "id": "ZULypOXtG73-",
        "outputId": "a188b613-44b3-40ea-e08e-d92fc38f2a53"
      },
      "outputs": [
        {
          "data": {
            "text/plain": [
              "tensor([[0.0146, 0.1393, 0.9180],\n",
              "        [0.3637, 0.2042, 0.6238]])"
            ]
          },
          "execution_count": 61,
          "metadata": {},
          "output_type": "execute_result"
        }
      ],
      "source": [
        "torch.rand_like(a,dtype=torch.float32)"
      ]
    },
    {
      "cell_type": "code",
      "execution_count": null,
      "metadata": {
        "colab": {
          "base_uri": "https://localhost:8080/"
        },
        "id": "Bm-bLXHQHBmu",
        "outputId": "6a48080b-a307-4346-a436-577a1370ed04"
      },
      "outputs": [
        {
          "data": {
            "text/plain": [
              "tensor([[1.0682e+04, 0.0000e+00, 0.0000e+00],\n",
              "        [1.4013e-45, 0.0000e+00, 4.4842e-44]])"
            ]
          },
          "execution_count": 56,
          "metadata": {},
          "output_type": "execute_result"
        }
      ],
      "source": [
        "torch.manual_seed(112)\n",
        "torch.empty_like(a)"
      ]
    },
    {
      "cell_type": "code",
      "execution_count": null,
      "metadata": {
        "colab": {
          "base_uri": "https://localhost:8080/"
        },
        "id": "PzguI8kuHGb_",
        "outputId": "a21ed607-11f2-4c85-f8de-8691a499a475"
      },
      "outputs": [
        {
          "data": {
            "text/plain": [
              "torch.float32"
            ]
          },
          "execution_count": 58,
          "metadata": {},
          "output_type": "execute_result"
        }
      ],
      "source": [
        "a.dtype"
      ]
    },
    {
      "cell_type": "code",
      "execution_count": null,
      "metadata": {
        "colab": {
          "base_uri": "https://localhost:8080/"
        },
        "id": "u8E2VwYsHWtG",
        "outputId": "2b9f5068-3add-4770-d83a-4f6c3610bab2"
      },
      "outputs": [
        {
          "data": {
            "text/plain": [
              "tensor([[0.1829, 0.6861],\n",
              "        [0.0303, 0.1681]])"
            ]
          },
          "execution_count": 63,
          "metadata": {},
          "output_type": "execute_result"
        }
      ],
      "source": [
        "x=torch.rand(2,2)\n",
        "x"
      ]
    },
    {
      "cell_type": "code",
      "execution_count": null,
      "metadata": {
        "colab": {
          "base_uri": "https://localhost:8080/"
        },
        "id": "sjvttzLoIFif",
        "outputId": "3909d9ef-4d0a-406e-96f2-7d6f710b9458"
      },
      "outputs": [
        {
          "data": {
            "text/plain": [
              "tensor([[0.0335, 0.4708],\n",
              "        [0.0009, 0.0283]])"
            ]
          },
          "execution_count": 66,
          "metadata": {},
          "output_type": "execute_result"
        }
      ],
      "source": [
        "x+2\n",
        "x**2"
      ]
    },
    {
      "cell_type": "code",
      "execution_count": null,
      "metadata": {
        "colab": {
          "base_uri": "https://localhost:8080/"
        },
        "id": "ZEDiv5d1IJXX",
        "outputId": "7d4367ac-34b7-454a-cfa0-c1b30777b866"
      },
      "outputs": [
        {
          "name": "stdout",
          "output_type": "stream",
          "text": [
            "tensor([[0.3156, 0.9312, 0.9074],\n",
            "        [0.8470, 0.8995, 0.0910]])\n",
            "tensor([[0.0753, 0.0427, 0.7949],\n",
            "        [0.4203, 0.5299, 0.6061]])\n"
          ]
        }
      ],
      "source": [
        "a = torch.rand(2,3)\n",
        "b = torch.rand(2,3)\n",
        "\n",
        "print(a)\n",
        "print(b)"
      ]
    },
    {
      "cell_type": "code",
      "execution_count": null,
      "metadata": {
        "colab": {
          "base_uri": "https://localhost:8080/"
        },
        "id": "qoHzbekzL3eH",
        "outputId": "1dc1ee48-f15a-4cc3-ff93-fc4f2a827e30"
      },
      "outputs": [
        {
          "data": {
            "text/plain": [
              "tensor([[0.0238, 0.0398, 0.7213],\n",
              "        [0.3560, 0.4766, 0.0552]])"
            ]
          },
          "execution_count": 70,
          "metadata": {},
          "output_type": "execute_result"
        }
      ],
      "source": [
        "a*b"
      ]
    },
    {
      "cell_type": "code",
      "execution_count": null,
      "metadata": {
        "id": "J75QzZhsMDUP"
      },
      "outputs": [],
      "source": []
    },
    {
      "cell_type": "code",
      "execution_count": null,
      "metadata": {
        "id": "vSKmNZUoMCsQ"
      },
      "outputs": [],
      "source": [
        "c = torch.tensor([1, -2, 3, -4])"
      ]
    },
    {
      "cell_type": "code",
      "execution_count": null,
      "metadata": {
        "colab": {
          "base_uri": "https://localhost:8080/"
        },
        "id": "NRdsTbN-MD-H",
        "outputId": "734a5bdb-51e1-4aaf-d60e-fb7bda664588"
      },
      "outputs": [
        {
          "data": {
            "text/plain": [
              "tensor([1, 2, 3, 4])"
            ]
          },
          "execution_count": 74,
          "metadata": {},
          "output_type": "execute_result"
        }
      ],
      "source": [
        "abs(c)"
      ]
    },
    {
      "cell_type": "code",
      "execution_count": null,
      "metadata": {
        "colab": {
          "base_uri": "https://localhost:8080/"
        },
        "id": "OuqfX-E0L5uo",
        "outputId": "0f854121-b4b2-437d-c0e4-d98d7e08c15f"
      },
      "outputs": [
        {
          "data": {
            "text/plain": [
              "tensor([[0., 7., 7.],\n",
              "        [7., 8., 0.]])"
            ]
          },
          "execution_count": 81,
          "metadata": {},
          "output_type": "execute_result"
        }
      ],
      "source": [
        "e = torch.randint(size=(2,3), low=0, high=10,dtype=torch.float32)\n",
        "e"
      ]
    },
    {
      "cell_type": "code",
      "execution_count": null,
      "metadata": {
        "colab": {
          "base_uri": "https://localhost:8080/"
        },
        "id": "6he3IVAiL-k5",
        "outputId": "57689938-6702-4aff-cc9b-af9868176f73"
      },
      "outputs": [
        {
          "data": {
            "text/plain": [
              "tensor(29.)"
            ]
          },
          "execution_count": 82,
          "metadata": {},
          "output_type": "execute_result"
        }
      ],
      "source": [
        "torch.sum(e, dim=1)\n",
        "torch.sum(e,dim=0)\n",
        "torch.sum(e)"
      ]
    },
    {
      "cell_type": "code",
      "execution_count": null,
      "metadata": {
        "colab": {
          "base_uri": "https://localhost:8080/"
        },
        "id": "pnXJzboWMO5Y",
        "outputId": "632a2e6d-a4b3-4cfe-9a4d-ba7ce6b72205"
      },
      "outputs": [
        {
          "data": {
            "text/plain": [
              "tensor([4.6667, 5.0000])"
            ]
          },
          "execution_count": 87,
          "metadata": {},
          "output_type": "execute_result"
        }
      ],
      "source": [
        "torch.mean(e)\n",
        "torch.mean(e,dim=0)\n",
        "torch.mean(e,dim=1)"
      ]
    },
    {
      "cell_type": "code",
      "execution_count": null,
      "metadata": {
        "colab": {
          "base_uri": "https://localhost:8080/"
        },
        "id": "CPJ_kD4GMcSX",
        "outputId": "5a9f6baa-21fe-41a9-8614-13d610f2473a"
      },
      "outputs": [
        {
          "data": {
            "text/plain": [
              "torch.return_types.median(\n",
              "values=tensor([0., 7., 0.]),\n",
              "indices=tensor([0, 0, 1]))"
            ]
          },
          "execution_count": 90,
          "metadata": {},
          "output_type": "execute_result"
        }
      ],
      "source": [
        "torch.median(e,dim=0)"
      ]
    },
    {
      "cell_type": "code",
      "execution_count": null,
      "metadata": {
        "colab": {
          "base_uri": "https://localhost:8080/"
        },
        "id": "MK7vgBGfM01Y",
        "outputId": "91426120-bacf-4c2e-faba-cfbd7665aab4"
      },
      "outputs": [
        {
          "data": {
            "text/plain": [
              "tensor(8.)"
            ]
          },
          "execution_count": 92,
          "metadata": {},
          "output_type": "execute_result"
        }
      ],
      "source": [
        "torch.min(e)\n",
        "torch.max(e)"
      ]
    },
    {
      "cell_type": "code",
      "execution_count": null,
      "metadata": {
        "colab": {
          "base_uri": "https://localhost:8080/"
        },
        "id": "LyNJWLKYM_p2",
        "outputId": "a4e43ef1-1e8d-416d-9f4b-8231a89f9905"
      },
      "outputs": [
        {
          "data": {
            "text/plain": [
              "tensor([ 0., 56.,  0.])"
            ]
          },
          "execution_count": 100,
          "metadata": {},
          "output_type": "execute_result"
        }
      ],
      "source": [
        "torch.prod(e)\n",
        "torch.prod(e,dim=1)\n",
        "torch.prod(e,dim=0)"
      ]
    },
    {
      "cell_type": "code",
      "execution_count": null,
      "metadata": {
        "colab": {
          "base_uri": "https://localhost:8080/"
        },
        "id": "uBCSDnxCNHFH",
        "outputId": "395a467b-2e70-4e75-915a-b0c562dcefcc"
      },
      "outputs": [
        {
          "data": {
            "text/plain": [
              "tensor(3.7639)"
            ]
          },
          "execution_count": 101,
          "metadata": {},
          "output_type": "execute_result"
        }
      ],
      "source": [
        "torch.std(e)"
      ]
    },
    {
      "cell_type": "code",
      "execution_count": null,
      "metadata": {
        "colab": {
          "base_uri": "https://localhost:8080/"
        },
        "id": "7G5oqv3TNT22",
        "outputId": "453af920-106e-4a51-8667-a1746285af4b"
      },
      "outputs": [
        {
          "data": {
            "text/plain": [
              "tensor(14.1667)"
            ]
          },
          "execution_count": 104,
          "metadata": {},
          "output_type": "execute_result"
        }
      ],
      "source": [
        "torch.var(e,dim=1)\n",
        "torch.var(e)"
      ]
    },
    {
      "cell_type": "code",
      "execution_count": null,
      "metadata": {
        "colab": {
          "base_uri": "https://localhost:8080/"
        },
        "id": "e46gt6rvNYvf",
        "outputId": "e93ebbef-7f21-4050-d246-d7242a8723cd"
      },
      "outputs": [
        {
          "data": {
            "text/plain": [
              "tensor(4)"
            ]
          },
          "execution_count": 106,
          "metadata": {},
          "output_type": "execute_result"
        }
      ],
      "source": [
        "torch.argmax(e)"
      ]
    },
    {
      "cell_type": "code",
      "execution_count": null,
      "metadata": {
        "colab": {
          "base_uri": "https://localhost:8080/"
        },
        "id": "lbDhJlMmNec3",
        "outputId": "f979bf38-9e67-42be-9e3f-5038d493f861"
      },
      "outputs": [
        {
          "data": {
            "text/plain": [
              "tensor(0)"
            ]
          },
          "execution_count": 107,
          "metadata": {},
          "output_type": "execute_result"
        }
      ],
      "source": [
        "torch.argmin(e)"
      ]
    },
    {
      "cell_type": "code",
      "execution_count": null,
      "metadata": {
        "colab": {
          "base_uri": "https://localhost:8080/"
        },
        "id": "_7HeUXNaNhV_",
        "outputId": "6f1dfe4b-ff73-44f0-a47d-c26a224915f9"
      },
      "outputs": [
        {
          "name": "stdout",
          "output_type": "stream",
          "text": [
            "tensor([[5, 3, 8],\n",
            "        [3, 0, 7],\n",
            "        [3, 7, 4]])\n",
            "tensor([[7, 2, 8],\n",
            "        [2, 5, 5],\n",
            "        [9, 3, 2]])\n"
          ]
        }
      ],
      "source": [
        "f = torch.randint(size=(3,3), low=0, high=10)\n",
        "g = torch.randint(size=(3,3), low=0, high=10)\n",
        "\n",
        "print(f)\n",
        "print(g)\n"
      ]
    },
    {
      "cell_type": "code",
      "execution_count": null,
      "metadata": {
        "colab": {
          "base_uri": "https://localhost:8080/"
        },
        "id": "3Ovw49O7Njrf",
        "outputId": "5042e37f-fd5f-4629-e5f4-858376c539d0"
      },
      "outputs": [
        {
          "data": {
            "text/plain": [
              "tensor([[113,  49,  71],\n",
              "        [ 84,  27,  38],\n",
              "        [ 71,  53,  67]])"
            ]
          },
          "execution_count": 113,
          "metadata": {},
          "output_type": "execute_result"
        }
      ],
      "source": [
        "torch.matmul(f,g)"
      ]
    },
    {
      "cell_type": "code",
      "execution_count": null,
      "metadata": {
        "colab": {
          "base_uri": "https://localhost:8080/"
        },
        "id": "ruxySi8MNn4n",
        "outputId": "d173de49-243e-4492-ff5e-6581a0d74ad1"
      },
      "outputs": [
        {
          "data": {
            "text/plain": [
              "tensor(11)"
            ]
          },
          "execution_count": 115,
          "metadata": {},
          "output_type": "execute_result"
        }
      ],
      "source": [
        "vector1 = torch.tensor([1, 2])\n",
        "vector2 = torch.tensor([3, 4])\n",
        "\n",
        "# dot product\n",
        "torch.dot(vector1, vector2)"
      ]
    },
    {
      "cell_type": "code",
      "execution_count": null,
      "metadata": {
        "colab": {
          "base_uri": "https://localhost:8080/"
        },
        "id": "Cer0ZX4eNtev",
        "outputId": "6cdfc5e4-052c-4394-cab0-2447c3e421aa"
      },
      "outputs": [
        {
          "data": {
            "text/plain": [
              "tensor([[5, 3, 3],\n",
              "        [3, 0, 7],\n",
              "        [8, 7, 4]])"
            ]
          },
          "execution_count": 116,
          "metadata": {},
          "output_type": "execute_result"
        }
      ],
      "source": [
        "torch.transpose(f, 0, 1)"
      ]
    },
    {
      "cell_type": "code",
      "execution_count": null,
      "metadata": {
        "colab": {
          "base_uri": "https://localhost:8080/"
        },
        "id": "8-1PeaDHOAg3",
        "outputId": "f8c1efe6-08f5-4236-bb9a-206dca2f1419"
      },
      "outputs": [
        {
          "data": {
            "text/plain": [
              "tensor([[2., 9., 0.],\n",
              "        [9., 9., 0.],\n",
              "        [1., 4., 1.]])"
            ]
          },
          "execution_count": 120,
          "metadata": {},
          "output_type": "execute_result"
        }
      ],
      "source": [
        "h = torch.randint(size=(3,3), low=0, high=10, dtype=torch.float32)\n",
        "h"
      ]
    },
    {
      "cell_type": "code",
      "execution_count": null,
      "metadata": {
        "colab": {
          "base_uri": "https://localhost:8080/"
        },
        "id": "1XgfPPT5OBxG",
        "outputId": "403db1cb-5add-4361-cb13-e6f32ee8e666"
      },
      "outputs": [
        {
          "data": {
            "text/plain": [
              "tensor(-63.)"
            ]
          },
          "execution_count": 121,
          "metadata": {},
          "output_type": "execute_result"
        }
      ],
      "source": [
        "torch.det(h)"
      ]
    },
    {
      "cell_type": "code",
      "execution_count": null,
      "metadata": {
        "colab": {
          "base_uri": "https://localhost:8080/"
        },
        "id": "1p4HC4R_OFn_",
        "outputId": "e6bd4bda-9f00-48fa-ed6d-87564768a24b"
      },
      "outputs": [
        {
          "data": {
            "text/plain": [
              "tensor([[-0.1429,  0.1429,  0.0000],\n",
              "        [ 0.1429, -0.0317,  0.0000],\n",
              "        [-0.4286, -0.0159,  1.0000]])"
            ]
          },
          "execution_count": 122,
          "metadata": {},
          "output_type": "execute_result"
        }
      ],
      "source": [
        "torch.inverse(h)"
      ]
    },
    {
      "cell_type": "code",
      "execution_count": null,
      "metadata": {
        "colab": {
          "base_uri": "https://localhost:8080/"
        },
        "id": "TQs4RkOiOL9G",
        "outputId": "5166144c-5656-4af9-d0f1-c09b2d46c33e"
      },
      "outputs": [
        {
          "name": "stdout",
          "output_type": "stream",
          "text": [
            "tensor([[0, 4, 7],\n",
            "        [8, 2, 2]])\n",
            "tensor([[6, 7, 2],\n",
            "        [4, 4, 2]])\n"
          ]
        }
      ],
      "source": [
        "i = torch.randint(size=(2,3), low=0, high=10)\n",
        "j = torch.randint(size=(2,3), low=0, high=10)\n",
        "\n",
        "print(i)\n",
        "print(j)"
      ]
    },
    {
      "cell_type": "code",
      "execution_count": null,
      "metadata": {
        "colab": {
          "base_uri": "https://localhost:8080/"
        },
        "id": "uJWCcPR8OOP3",
        "outputId": "2a9c35ff-6586-4e93-9f54-7de4eb2848e9"
      },
      "outputs": [
        {
          "data": {
            "text/plain": [
              "tensor([[ True,  True,  True],\n",
              "        [ True,  True, False]])"
            ]
          },
          "execution_count": 128,
          "metadata": {},
          "output_type": "execute_result"
        }
      ],
      "source": [
        "# greater than\n",
        "i > j\n",
        "# less than\n",
        "i < j\n",
        "# equal to\n",
        "i == j\n",
        "# not equal to\n",
        "i != j\n",
        "# greater than equal to"
      ]
    },
    {
      "cell_type": "code",
      "execution_count": null,
      "metadata": {
        "colab": {
          "base_uri": "https://localhost:8080/"
        },
        "id": "IA5s6-yyOPvn",
        "outputId": "184a69a1-2c07-49f0-b5ef-fb532448cdab"
      },
      "outputs": [
        {
          "data": {
            "text/plain": [
              "tensor([[0.6160, 0.9612, 0.9433],\n",
              "        [0.9012, 0.7583, 0.5295]])"
            ]
          },
          "execution_count": 130,
          "metadata": {},
          "output_type": "execute_result"
        }
      ],
      "source": [
        "a=torch.rand(2,3)\n",
        "a\n"
      ]
    },
    {
      "cell_type": "code",
      "execution_count": null,
      "metadata": {
        "id": "-_txWEpjXpO_"
      },
      "outputs": [],
      "source": [
        "b=a"
      ]
    },
    {
      "cell_type": "code",
      "execution_count": null,
      "metadata": {
        "id": "4KNPjd9fXry5"
      },
      "outputs": [],
      "source": [
        "a[0][0]=1"
      ]
    },
    {
      "cell_type": "code",
      "execution_count": null,
      "metadata": {
        "colab": {
          "base_uri": "https://localhost:8080/"
        },
        "id": "nQbAjzibXt6n",
        "outputId": "fea60436-d291-4cc7-a303-a961bf8348e2"
      },
      "outputs": [
        {
          "data": {
            "text/plain": [
              "tensor([[1.0000, 0.9612, 0.9433],\n",
              "        [0.9012, 0.7583, 0.5295]])"
            ]
          },
          "execution_count": 133,
          "metadata": {},
          "output_type": "execute_result"
        }
      ],
      "source": [
        "a\n"
      ]
    },
    {
      "cell_type": "code",
      "execution_count": null,
      "metadata": {
        "colab": {
          "base_uri": "https://localhost:8080/"
        },
        "id": "Y5vI93kkXuog",
        "outputId": "15f86396-89c9-429a-e780-ebc660f2f556"
      },
      "outputs": [
        {
          "data": {
            "text/plain": [
              "tensor([[1.0000, 0.9612, 0.9433],\n",
              "        [0.9012, 0.7583, 0.5295]])"
            ]
          },
          "execution_count": 134,
          "metadata": {},
          "output_type": "execute_result"
        }
      ],
      "source": [
        "b"
      ]
    },
    {
      "cell_type": "code",
      "execution_count": null,
      "metadata": {
        "id": "pFs9i0tRXu6-"
      },
      "outputs": [],
      "source": [
        "b=a.clone()"
      ]
    },
    {
      "cell_type": "code",
      "execution_count": null,
      "metadata": {
        "id": "lkDLXnikYDHv"
      },
      "outputs": [],
      "source": [
        "a[0][0]=0"
      ]
    },
    {
      "cell_type": "code",
      "execution_count": null,
      "metadata": {
        "colab": {
          "base_uri": "https://localhost:8080/"
        },
        "id": "Prj2vY9xYLze",
        "outputId": "03193327-f8fb-4e0e-a9bf-e53df6a3513c"
      },
      "outputs": [
        {
          "data": {
            "text/plain": [
              "tensor([[0.0000, 0.9612, 0.9433],\n",
              "        [0.9012, 0.7583, 0.5295]])"
            ]
          },
          "execution_count": 139,
          "metadata": {},
          "output_type": "execute_result"
        }
      ],
      "source": [
        "a"
      ]
    },
    {
      "cell_type": "code",
      "execution_count": null,
      "metadata": {
        "colab": {
          "base_uri": "https://localhost:8080/"
        },
        "id": "2hRnRuw7YMhu",
        "outputId": "f5d7db87-de90-43c2-91c1-7541e69f6840"
      },
      "outputs": [
        {
          "data": {
            "text/plain": [
              "tensor([[1.0000, 0.9612, 0.9433],\n",
              "        [0.9012, 0.7583, 0.5295]])"
            ]
          },
          "execution_count": 140,
          "metadata": {},
          "output_type": "execute_result"
        }
      ],
      "source": [
        "b"
      ]
    },
    {
      "cell_type": "code",
      "execution_count": null,
      "metadata": {
        "colab": {
          "base_uri": "https://localhost:8080/"
        },
        "id": "19wQng5LYMu2",
        "outputId": "18532426-8cc7-4f9c-9afc-8557d0ab3966"
      },
      "outputs": [
        {
          "data": {
            "text/plain": [
              "132837303872752"
            ]
          },
          "execution_count": 142,
          "metadata": {},
          "output_type": "execute_result"
        }
      ],
      "source": [
        "id(a)"
      ]
    },
    {
      "cell_type": "code",
      "execution_count": null,
      "metadata": {
        "colab": {
          "base_uri": "https://localhost:8080/"
        },
        "id": "ChXdqwT_YOGj",
        "outputId": "cab45a89-5b33-4ca4-c70f-b98c7cd67010"
      },
      "outputs": [
        {
          "data": {
            "text/plain": [
              "132837302584528"
            ]
          },
          "execution_count": 143,
          "metadata": {},
          "output_type": "execute_result"
        }
      ],
      "source": [
        "id(b)"
      ]
    },
    {
      "cell_type": "code",
      "execution_count": null,
      "metadata": {
        "colab": {
          "base_uri": "https://localhost:8080/"
        },
        "id": "mh2WOgBjYS19",
        "outputId": "92572fc8-2469-449f-d196-d11cfa0147e1"
      },
      "outputs": [
        {
          "data": {
            "text/plain": [
              "True"
            ]
          },
          "execution_count": 3,
          "metadata": {},
          "output_type": "execute_result"
        }
      ],
      "source": [
        "torch.cuda.is_available()"
      ]
    },
    {
      "cell_type": "code",
      "execution_count": null,
      "metadata": {
        "id": "jPnjrVTbYrxu"
      },
      "outputs": [],
      "source": [
        "device=torch.device('cuda')"
      ]
    },
    {
      "cell_type": "code",
      "execution_count": null,
      "metadata": {
        "colab": {
          "base_uri": "https://localhost:8080/"
        },
        "id": "6EOQvFwUY1ru",
        "outputId": "7a45716e-3238-42e5-8b5d-80ea7063ddce"
      },
      "outputs": [
        {
          "data": {
            "text/plain": [
              "tensor([[0.5952, 0.5377, 0.4878],\n",
              "        [0.4607, 0.1479, 0.1820]], device='cuda:0')"
            ]
          },
          "execution_count": 6,
          "metadata": {},
          "output_type": "execute_result"
        }
      ],
      "source": [
        "torch.rand(2,3,device=device)"
      ]
    },
    {
      "cell_type": "code",
      "execution_count": null,
      "metadata": {
        "colab": {
          "base_uri": "https://localhost:8080/"
        },
        "id": "r3aZmOcJY6ef",
        "outputId": "0e98f2eb-7c52-4709-fb6f-ada362900bbb"
      },
      "outputs": [
        {
          "data": {
            "text/plain": [
              "tensor([[0.6643, 0.3390, 0.4412],\n",
              "        [0.7076, 0.2799, 0.0897]])"
            ]
          },
          "execution_count": 8,
          "metadata": {},
          "output_type": "execute_result"
        }
      ],
      "source": [
        "a=torch.rand(2,3)\n",
        "a"
      ]
    },
    {
      "cell_type": "code",
      "execution_count": 11,
      "metadata": {
        "id": "IbcWLBmIZEj-"
      },
      "outputs": [],
      "source": [
        "b=a.to(device)"
      ]
    },
    {
      "cell_type": "code",
      "execution_count": 14,
      "metadata": {
        "colab": {
          "base_uri": "https://localhost:8080/"
        },
        "id": "OanaXhbFZMU-",
        "outputId": "b08a3a01-5f78-43c6-bd76-ceb264765143"
      },
      "outputs": [
        {
          "data": {
            "text/plain": [
              "tensor([[5.6643, 5.3390, 5.4412],\n",
              "        [5.7076, 5.2799, 5.0897]], device='cuda:0')"
            ]
          },
          "execution_count": 14,
          "metadata": {},
          "output_type": "execute_result"
        }
      ],
      "source": [
        "b+5"
      ]
    },
    {
      "cell_type": "code",
      "execution_count": 17,
      "metadata": {
        "colab": {
          "base_uri": "https://localhost:8080/"
        },
        "id": "uTgDDKLVZUsn",
        "outputId": "0d7feddc-6cb2-4837-f289-2e8b546fa365"
      },
      "outputs": [
        {
          "name": "stdout",
          "output_type": "stream",
          "text": [
            "CPU time:24.4908 seconds\n",
            "GPU time:0.5452 seconds\n",
            "\n",
            " speedup (CPU time/GPU time): 44.923276681684555\n"
          ]
        }
      ],
      "source": [
        "import time\n",
        "\n",
        "size=10000\n",
        "\n",
        "matrix_cpu1=torch.rand(size,size)\n",
        "matrix_cpu2=torch.rand(size,size)\n",
        "\n",
        "start_time=time.time()\n",
        "result_cpu=torch.matmul(matrix_cpu1,matrix_cpu2)\n",
        "\n",
        "cpu_time=time.time()-start_time\n",
        "\n",
        "print(f\"CPU time:{cpu_time:.4f} seconds\")\n",
        "\n",
        "matrix_gpu1=matrix_cpu1.to(device)\n",
        "matrix_gpu2=matrix_cpu2.to(device)\n",
        "\n",
        "start_time=time.time()\n",
        "result_gpu=torch.matmul(matrix_gpu1,matrix_gpu2)\n",
        "torch.cuda.synchronize()\n",
        "gpu_time=time.time()-start_time\n",
        "\n",
        "print(f\"GPU time:{gpu_time:.4f} seconds\")\n",
        "print(\"\\n speedup (CPU time/GPU time):\",cpu_time/gpu_time)"
      ]
    },
    {
      "cell_type": "code",
      "execution_count": 23,
      "metadata": {
        "colab": {
          "base_uri": "https://localhost:8080/"
        },
        "id": "bPMD7yI7aFM2",
        "outputId": "4303114e-b475-4365-de61-d33bfc5914c9"
      },
      "outputs": [
        {
          "data": {
            "text/plain": [
              "torch.Size([1, 226, 226, 3])"
            ]
          },
          "execution_count": 23,
          "metadata": {},
          "output_type": "execute_result"
        }
      ],
      "source": [
        "c=torch.rand(226,226,3)\n",
        "c.unsqueeze(0).shape"
      ]
    },
    {
      "cell_type": "code",
      "execution_count": 50,
      "metadata": {
        "colab": {
          "base_uri": "https://localhost:8080/"
        },
        "id": "LEFjXWJieA7_",
        "outputId": "9b03ec20-0b29-49a3-c236-ae3913ef9035"
      },
      "outputs": [
        {
          "data": {
            "text/plain": [
              "tensor([[0.7876, 0.6121, 0.9769, 0.9601, 0.7629, 0.1499, 0.6799, 0.6814, 0.1688,\n",
              "         0.0675, 0.2500, 0.3514, 0.3093, 0.1261, 0.9369, 0.1187, 0.8510, 0.5859,\n",
              "         0.6497, 0.3641]])"
            ]
          },
          "execution_count": 50,
          "metadata": {},
          "output_type": "execute_result"
        }
      ],
      "source": [
        "d=torch.rand(1,20)\n",
        "d"
      ]
    },
    {
      "cell_type": "code",
      "execution_count": 54,
      "metadata": {
        "colab": {
          "base_uri": "https://localhost:8080/"
        },
        "id": "vIYxqQmOfV52",
        "outputId": "b28a3be8-1ce7-431c-cdd6-f236de924d51"
      },
      "outputs": [
        {
          "data": {
            "text/plain": [
              "torch.Size([20])"
            ]
          },
          "execution_count": 54,
          "metadata": {},
          "output_type": "execute_result"
        }
      ],
      "source": [
        "e=d.squeeze(0)\n",
        "e.shape"
      ]
    },
    {
      "cell_type": "code",
      "execution_count": 55,
      "metadata": {
        "id": "xL0aQE8PfmIe"
      },
      "outputs": [],
      "source": [
        "import numpy as np\n",
        "a=torch.tensor([1,2,43])"
      ]
    },
    {
      "cell_type": "code",
      "execution_count": 57,
      "metadata": {
        "colab": {
          "base_uri": "https://localhost:8080/"
        },
        "id": "4XU63dWwgm5k",
        "outputId": "262e23cb-7c97-4284-f9c7-03aa27f3573c"
      },
      "outputs": [
        {
          "data": {
            "text/plain": [
              "torch.Tensor"
            ]
          },
          "execution_count": 57,
          "metadata": {},
          "output_type": "execute_result"
        }
      ],
      "source": [
        "type(a)"
      ]
    },
    {
      "cell_type": "code",
      "execution_count": 56,
      "metadata": {
        "id": "R3TGY0pgggpO"
      },
      "outputs": [],
      "source": [
        "b=a.numpy()"
      ]
    },
    {
      "cell_type": "code",
      "execution_count": 59,
      "metadata": {
        "colab": {
          "base_uri": "https://localhost:8080/"
        },
        "id": "zrpJeUf_glPN",
        "outputId": "3687f9a1-456f-4cae-bd4c-0f7776303417"
      },
      "outputs": [
        {
          "data": {
            "text/plain": [
              "numpy.ndarray"
            ]
          },
          "execution_count": 59,
          "metadata": {},
          "output_type": "execute_result"
        }
      ],
      "source": [
        "type(b)"
      ]
    },
    {
      "cell_type": "code",
      "execution_count": 60,
      "metadata": {
        "id": "vdHcScpLgpni"
      },
      "outputs": [],
      "source": [
        "d=np.array([1,2,3])"
      ]
    },
    {
      "cell_type": "code",
      "execution_count": 63,
      "metadata": {
        "colab": {
          "base_uri": "https://localhost:8080/"
        },
        "id": "eedoLSxOgw-m",
        "outputId": "0a32e1c3-f0a2-49aa-9b2d-edf155f13709"
      },
      "outputs": [
        {
          "data": {
            "text/plain": [
              "tensor([1, 2, 3])"
            ]
          },
          "execution_count": 63,
          "metadata": {},
          "output_type": "execute_result"
        }
      ],
      "source": [
        "f=torch.from_numpy(d)\n",
        "f"
      ]
    },
    {
      "cell_type": "code",
      "execution_count": 64,
      "metadata": {
        "colab": {
          "base_uri": "https://localhost:8080/"
        },
        "id": "QwoMEO6Qg2NG",
        "outputId": "68282fb5-657d-44b9-abdd-08c7675b517d"
      },
      "outputs": [
        {
          "data": {
            "text/plain": [
              "torch.Tensor"
            ]
          },
          "execution_count": 64,
          "metadata": {},
          "output_type": "execute_result"
        }
      ],
      "source": [
        "type(f)"
      ]
    },
    {
      "cell_type": "code",
      "execution_count": null,
      "metadata": {
        "id": "SgtifTMeg6zn"
      },
      "outputs": [],
      "source": []
    }
  ],
  "metadata": {
    "accelerator": "GPU",
    "colab": {
      "gpuType": "T4",
      "provenance": []
    },
    "kernelspec": {
      "display_name": "Python 3",
      "name": "python3"
    },
    "language_info": {
      "name": "python"
    }
  },
  "nbformat": 4,
  "nbformat_minor": 0
}
