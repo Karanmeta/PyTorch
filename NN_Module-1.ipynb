{
  "nbformat": 4,
  "nbformat_minor": 0,
  "metadata": {
    "colab": {
      "provenance": []
    },
    "kernelspec": {
      "name": "python3",
      "display_name": "Python 3"
    },
    "language_info": {
      "name": "python"
    }
  },
  "cells": [
    {
      "cell_type": "code",
      "execution_count": 18,
      "metadata": {
        "id": "TmZnlEt8qxi0"
      },
      "outputs": [],
      "source": [
        "import torch\n",
        "import torch.nn as nn\n",
        "\n",
        "class Model(nn.Module):\n",
        "    def __init__(self,num_features):\n",
        "\n",
        "      super().__init__()\n",
        "      self.linear=nn.Linear(num_features,1)\n",
        "      self.sigmoid=nn.Sigmoid()\n",
        "\n",
        "\n",
        "    def forward(self,features):\n",
        "\n",
        "      out=self.linear(features)\n",
        "      out=self.sigmoid(out)\n",
        "\n",
        "      return out\n",
        "\n"
      ]
    },
    {
      "cell_type": "code",
      "source": [
        "features=torch.rand(10,5)\n",
        "\n",
        "model=Model(features.shape[1])\n",
        "\n",
        "model(features)"
      ],
      "metadata": {
        "colab": {
          "base_uri": "https://localhost:8080/"
        },
        "id": "icQlhClCsY-G",
        "outputId": "07ee1523-dc1a-45e4-f48d-c3ab6172b23d"
      },
      "execution_count": 19,
      "outputs": [
        {
          "output_type": "execute_result",
          "data": {
            "text/plain": [
              "tensor([[0.4981],\n",
              "        [0.4642],\n",
              "        [0.5237],\n",
              "        [0.4823],\n",
              "        [0.5867],\n",
              "        [0.5314],\n",
              "        [0.4362],\n",
              "        [0.5589],\n",
              "        [0.5808],\n",
              "        [0.5029]], grad_fn=<SigmoidBackward0>)"
            ]
          },
          "metadata": {},
          "execution_count": 19
        }
      ]
    },
    {
      "cell_type": "code",
      "source": [
        "model.linear.weight"
      ],
      "metadata": {
        "colab": {
          "base_uri": "https://localhost:8080/"
        },
        "id": "xFX0q0IQttvu",
        "outputId": "4c59d7c0-d8f5-4b97-b442-722a09f5f493"
      },
      "execution_count": 20,
      "outputs": [
        {
          "output_type": "execute_result",
          "data": {
            "text/plain": [
              "Parameter containing:\n",
              "tensor([[ 0.1849,  0.3640, -0.0011,  0.4084, -0.2396]], requires_grad=True)"
            ]
          },
          "metadata": {},
          "execution_count": 20
        }
      ]
    },
    {
      "cell_type": "code",
      "source": [
        "model.linear.bias"
      ],
      "metadata": {
        "colab": {
          "base_uri": "https://localhost:8080/"
        },
        "id": "NVdzU6bQ02JM",
        "outputId": "e2895ce6-97f5-41d3-e5b2-d9fc16cc6b6e"
      },
      "execution_count": 21,
      "outputs": [
        {
          "output_type": "execute_result",
          "data": {
            "text/plain": [
              "Parameter containing:\n",
              "tensor([-0.2427], requires_grad=True)"
            ]
          },
          "metadata": {},
          "execution_count": 21
        }
      ]
    },
    {
      "cell_type": "code",
      "source": [
        "!pip install torchinfo"
      ],
      "metadata": {
        "colab": {
          "base_uri": "https://localhost:8080/"
        },
        "id": "UtDtrjX004rc",
        "outputId": "82eb7d8d-79c3-49c0-9383-cfa3de7b3396"
      },
      "execution_count": 22,
      "outputs": [
        {
          "output_type": "stream",
          "name": "stdout",
          "text": [
            "Requirement already satisfied: torchinfo in /usr/local/lib/python3.11/dist-packages (1.8.0)\n"
          ]
        }
      ]
    },
    {
      "cell_type": "code",
      "source": [
        "from torchinfo import summary\n",
        "\n",
        "summary(model,input_size=(10,5))"
      ],
      "metadata": {
        "colab": {
          "base_uri": "https://localhost:8080/"
        },
        "id": "9MaLhZqP1LXs",
        "outputId": "c167ffd2-13e2-4936-c385-cbbf04335748"
      },
      "execution_count": 23,
      "outputs": [
        {
          "output_type": "execute_result",
          "data": {
            "text/plain": [
              "==========================================================================================\n",
              "Layer (type:depth-idx)                   Output Shape              Param #\n",
              "==========================================================================================\n",
              "Model                                    [10, 1]                   --\n",
              "├─Linear: 1-1                            [10, 1]                   6\n",
              "├─Sigmoid: 1-2                           [10, 1]                   --\n",
              "==========================================================================================\n",
              "Total params: 6\n",
              "Trainable params: 6\n",
              "Non-trainable params: 0\n",
              "Total mult-adds (Units.MEGABYTES): 0.00\n",
              "==========================================================================================\n",
              "Input size (MB): 0.00\n",
              "Forward/backward pass size (MB): 0.00\n",
              "Params size (MB): 0.00\n",
              "Estimated Total Size (MB): 0.00\n",
              "=========================================================================================="
            ]
          },
          "metadata": {},
          "execution_count": 23
        }
      ]
    },
    {
      "cell_type": "code",
      "source": [
        "import torch\n",
        "import torch.nn as nn\n",
        "class Model(nn.Module):\n",
        "    def __init__(self,num_features):\n",
        "\n",
        "      super().__init__()\n",
        "      self.linear1=nn.Linear(num_features,3)\n",
        "      self.relu=nn.ReLU()\n",
        "      self.linear2=nn.Linear(3,1)\n",
        "      self.sigmoid=nn.Sigmoid()\n",
        "\n",
        "\n",
        "    def forward(self,features):\n",
        "\n",
        "      out=self.linear1(features)\n",
        "      out=self.relu(out)\n",
        "      out=self.linear2(out)\n",
        "      out=self.sigmoid(out)\n",
        "\n",
        "      return out"
      ],
      "metadata": {
        "id": "xoHw15JW1XpN"
      },
      "execution_count": 29,
      "outputs": []
    },
    {
      "cell_type": "code",
      "source": [
        "features = torch.rand(10,5)\n",
        "\n",
        "model = Model(features.shape[1])\n",
        "\n",
        "model(features)\n"
      ],
      "metadata": {
        "colab": {
          "base_uri": "https://localhost:8080/"
        },
        "id": "VGiNDTnf2svO",
        "outputId": "ea8ca2ca-2e8e-4745-9c4e-0140a9a987bc"
      },
      "execution_count": 32,
      "outputs": [
        {
          "output_type": "execute_result",
          "data": {
            "text/plain": [
              "tensor([[0.6091],\n",
              "        [0.6091],\n",
              "        [0.6091],\n",
              "        [0.6115],\n",
              "        [0.6123],\n",
              "        [0.6139],\n",
              "        [0.6188],\n",
              "        [0.6091],\n",
              "        [0.6038],\n",
              "        [0.6091]], grad_fn=<SigmoidBackward0>)"
            ]
          },
          "metadata": {},
          "execution_count": 32
        }
      ]
    },
    {
      "cell_type": "code",
      "source": [
        "class Model(nn.Module):\n",
        "    def __init__(self,num_features):\n",
        "\n",
        "      super().__init__()\n",
        "      self.network=nn.Sequential(\n",
        "      nn.Linear(num_features,3),\n",
        "      nn.ReLU(),\n",
        "      nn.Linear(3,1),\n",
        "      nn.Sigmoid()\n",
        "      )\n",
        "\n",
        "    def forward(self,features):\n",
        "\n",
        "      out=self.network(features)\n",
        "\n",
        "      return out"
      ],
      "metadata": {
        "id": "FWo4IpMK2wK8"
      },
      "execution_count": 33,
      "outputs": []
    },
    {
      "cell_type": "code",
      "source": [
        "features = torch.rand(10,5)\n",
        "\n",
        "model = Model(features.shape[1])\n",
        "\n",
        "model(features)\n"
      ],
      "metadata": {
        "colab": {
          "base_uri": "https://localhost:8080/"
        },
        "id": "x85g3kq33k7T",
        "outputId": "bf546c2c-5b0c-4c9d-c534-a6971a8b7b7c"
      },
      "execution_count": 34,
      "outputs": [
        {
          "output_type": "execute_result",
          "data": {
            "text/plain": [
              "tensor([[0.5867],\n",
              "        [0.5867],\n",
              "        [0.5827],\n",
              "        [0.5825],\n",
              "        [0.5867],\n",
              "        [0.5867],\n",
              "        [0.5867],\n",
              "        [0.5867],\n",
              "        [0.5867],\n",
              "        [0.5867]], grad_fn=<SigmoidBackward0>)"
            ]
          },
          "metadata": {},
          "execution_count": 34
        }
      ]
    },
    {
      "cell_type": "code",
      "source": [],
      "metadata": {
        "id": "besT3RHk5CH7"
      },
      "execution_count": null,
      "outputs": []
    }
  ]
}